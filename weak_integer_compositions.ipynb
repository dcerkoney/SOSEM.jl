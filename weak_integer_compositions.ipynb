{
 "cells": [
  {
   "cell_type": "markdown",
   "metadata": {},
   "source": [
    "## Benchmark of routines for generation of weak integer compositions (ordered integer partitions with lower bound 0)"
   ]
  },
  {
   "cell_type": "code",
   "execution_count": 1,
   "metadata": {},
   "outputs": [],
   "source": [
    "using BenchmarkTools\n",
    "using Combinatorics:\n",
    "    partitions,\n",
    "    permutations,\n",
    "    WithReplacementCombinations,\n",
    "    with_replacement_combinations\n",
    "using IterTools:\n",
    "    Iterators.popfirst!,\n",
    "    Iterators.Stateful"
   ]
  },
  {
   "cell_type": "code",
   "execution_count": 2,
   "metadata": {},
   "outputs": [
    {
     "data": {
      "text/plain": [
       "weak_integer_compositions_kun"
      ]
     },
     "metadata": {},
     "output_type": "display_data"
    }
   ],
   "source": [
    "######################\n",
    "# New implementation #\n",
    "######################\n",
    "\n",
    "# NOTE: slightly slower and ~20% more allocs this way, but probably\n",
    "#       more Julian, and doesn't modify Combinatorics source code\n",
    "\n",
    "struct WeakIntegerCompositions{T}\n",
    "    it::WithReplacementCombinations{T}\n",
    "end\n",
    "\n",
    "Base.eltype(::Type{WeakIntegerCompositions{T}}) where {T} = Vector{eltype(T)}\n",
    "Base.length(c::WeakIntegerCompositions) = length(c.it)\n",
    "\n",
    "\"\"\"\n",
    "Generate all weak compositions of an integer `n` with size `t`.\n",
    "\"\"\"\n",
    "weak_integer_compositions(n::Integer, t::Integer) = WeakIntegerCompositions(\n",
    "    WithReplacementCombinations(1:t, n)\n",
    ")\n",
    "\n",
    "function Base.iterate(c::WeakIntegerCompositions, s=Stateful(c.it))\n",
    "    # Advance stateful version of member iterator\n",
    "    isempty(s) && return\n",
    "    # Reinterpret size n multicombinations (combinations with replacement) of [1:t]\n",
    "    # as size n weak integer compositions of t by histogramming indices\n",
    "    weak_comp = zeros(Int, length(c.it.a))\n",
    "    # for i in this_multicombination\n",
    "    for i in popfirst!(s)\n",
    "        weak_comp[i] += 1\n",
    "    end\n",
    "    (weak_comp, s)\n",
    "end\n",
    "\n",
    "################################\n",
    "# Alternate new implementation #\n",
    "################################\n",
    "\n",
    "# NOTE: This is modified Combinatorics.jl source code! Duplicate of WithReplacementCombinations\n",
    "#       iterator with additional post-processing step to reinterpret as weak compositions\n",
    "\n",
    "struct WeakIntegerCompositionsV2{T}\n",
    "    a::T\n",
    "    t::Int\n",
    "end\n",
    "\n",
    "Base.eltype(::Type{WeakIntegerCompositionsV2{T}}) where {T} = Vector{eltype(T)}\n",
    "Base.length(c::WeakIntegerCompositionsV2) = binomial(length(c.a) + c.t - 1, c.t)\n",
    "\n",
    "\"\"\"\n",
    "Generate all weak compositions of an integer `n` with size `t`.\n",
    "\"\"\"\n",
    "weak_integer_compositions_v2(n::Integer, t::Integer) = WeakIntegerCompositionsV2(1:t, n)\n",
    "\n",
    "function Base.iterate(c::WeakIntegerCompositionsV2, s=[1 for i in 1:c.t])\n",
    "    (!isempty(s) && s[1] > length(c.a) || c.t < 0) && return\n",
    "    n = length(c.a)\n",
    "    t = c.t\n",
    "    comb = [c.a[si] for si in s]\n",
    "    if t > 0\n",
    "        s = copy(s)\n",
    "        changed = false\n",
    "        for i in t:-1:1\n",
    "            if s[i] < n\n",
    "                s[i] += 1\n",
    "                for j in (i+1):t\n",
    "                    s[j] = s[i]\n",
    "                end\n",
    "                changed = true\n",
    "                break\n",
    "            end\n",
    "        end\n",
    "        !changed && (s[1] = n + 1)\n",
    "    else\n",
    "        s = [n + 1]\n",
    "    end\n",
    "    # Reinterpret size t multicombinations (combinations with replacement) of [1:n]\n",
    "    # as size n weak integer compositions of t by histogramming indices\n",
    "    weak_comp = zeros(Int, n)\n",
    "    for i in comb\n",
    "        weak_comp[i] += 1\n",
    "    end\n",
    "    (weak_comp, s)\n",
    "end\n",
    "\n",
    "########################\n",
    "# Kun's implementation #\n",
    "########################\n",
    "\n",
    "# NOTE: This is function `Parquet.orderedPartition`, specialized to weak\n",
    "#       compositions (lowerbound = 0) and without debug assertions\n",
    "\n",
    "\"\"\"\n",
    "Generate all weak compositions of an integer `n` with size `t`.\n",
    "\"\"\"\n",
    "function weak_integer_compositions_kun(t, n)\n",
    "    unorderedPartition = collect(partitions(t + n, n))\n",
    "    orderedPartition = Vector{Vector{Int}}([])\n",
    "    for p in unorderedPartition\n",
    "        p = p .- 1\n",
    "        append!(orderedPartition, Set(permutations(p)))\n",
    "    end\n",
    "    return orderedPartition\n",
    "end"
   ]
  },
  {
   "cell_type": "code",
   "execution_count": 3,
   "metadata": {},
   "outputs": [],
   "source": [
    "loop_num = 5;\n",
    "n_expandables = 5;"
   ]
  },
  {
   "cell_type": "code",
   "execution_count": 4,
   "metadata": {},
   "outputs": [
    {
     "data": {
      "text/plain": [
       "126-element Vector{Vector{Int64}}:\n",
       " [0, 0, 0, 0, 5]\n",
       " [0, 0, 0, 1, 4]\n",
       " [0, 0, 0, 2, 3]\n",
       " [0, 0, 0, 3, 2]\n",
       " [0, 0, 0, 4, 1]\n",
       " [0, 0, 0, 5, 0]\n",
       " [0, 0, 1, 0, 4]\n",
       " [0, 0, 1, 1, 3]\n",
       " [0, 0, 1, 2, 2]\n",
       " [0, 0, 1, 3, 1]\n",
       " ⋮\n",
       " [3, 1, 0, 0, 1]\n",
       " [3, 1, 0, 1, 0]\n",
       " [3, 1, 1, 0, 0]\n",
       " [3, 2, 0, 0, 0]\n",
       " [4, 0, 0, 0, 1]\n",
       " [4, 0, 0, 1, 0]\n",
       " [4, 0, 1, 0, 0]\n",
       " [4, 1, 0, 0, 0]\n",
       " [5, 0, 0, 0, 0]"
      ]
     },
     "metadata": {},
     "output_type": "display_data"
    }
   ],
   "source": [
    "sort(collect(weak_integer_compositions(5, 5)))"
   ]
  },
  {
   "cell_type": "code",
   "execution_count": 5,
   "metadata": {},
   "outputs": [],
   "source": [
    "# Verify that all three implementations give equivalent results\n",
    "@assert allequal([sort(collect(v)) for v in [weak_integer_compositions(loop_num, n_expandables), \n",
    "                                             weak_integer_compositions_v2(loop_num, n_expandables), \n",
    "                                             weak_integer_compositions_kun(loop_num, n_expandables)]])"
   ]
  },
  {
   "cell_type": "markdown",
   "metadata": {},
   "source": [
    "### Case 1: Iterator carrying a `Stateful` instance of `Combinatorics.WithReplacementCombinations`"
   ]
  },
  {
   "cell_type": "code",
   "execution_count": 9,
   "metadata": {},
   "outputs": [
    {
     "data": {
      "text/plain": [
       "BenchmarkTools.Trial: 31018 samples with 10 evaluations.\n",
       " Range \u001b[90m(\u001b[39m\u001b[36m\u001b[1mmin\u001b[22m\u001b[39m … \u001b[35mmax\u001b[39m\u001b[90m):  \u001b[39m\u001b[36m\u001b[1m12.755 μs\u001b[22m\u001b[39m … \u001b[35m380.865 μs\u001b[39m  \u001b[90m┊\u001b[39m GC \u001b[90m(\u001b[39mmin … max\u001b[90m): \u001b[39m 0.00% … 95.81%\n",
       " Time  \u001b[90m(\u001b[39m\u001b[34m\u001b[1mmedian\u001b[22m\u001b[39m\u001b[90m):     \u001b[39m\u001b[34m\u001b[1m13.585 μs               \u001b[22m\u001b[39m\u001b[90m┊\u001b[39m GC \u001b[90m(\u001b[39mmedian\u001b[90m):    \u001b[39m 0.00%\n",
       " Time  \u001b[90m(\u001b[39m\u001b[32m\u001b[1mmean\u001b[22m\u001b[39m ± \u001b[32mσ\u001b[39m\u001b[90m):   \u001b[39m\u001b[32m\u001b[1m15.874 μs\u001b[22m\u001b[39m ± \u001b[32m 21.874 μs\u001b[39m  \u001b[90m┊\u001b[39m GC \u001b[90m(\u001b[39mmean ± σ\u001b[90m):  \u001b[39m13.73% ±  9.32%\n",
       "\n",
       "  \u001b[39m \u001b[39m \u001b[39m▂\u001b[39m█\u001b[34m▆\u001b[39m\u001b[39m▂\u001b[39m \u001b[39m \u001b[39m \u001b[39m \u001b[39m \u001b[39m \u001b[39m \u001b[39m \u001b[39m \u001b[39m \u001b[32m \u001b[39m\u001b[39m \u001b[39m \u001b[39m \u001b[39m \u001b[39m \u001b[39m \u001b[39m \u001b[39m \u001b[39m \u001b[39m \u001b[39m \u001b[39m \u001b[39m \u001b[39m \u001b[39m \u001b[39m \u001b[39m \u001b[39m \u001b[39m \u001b[39m \u001b[39m \u001b[39m \u001b[39m \u001b[39m \u001b[39m \u001b[39m \u001b[39m \u001b[39m \u001b[39m \u001b[39m \u001b[39m \u001b[39m \u001b[39m \u001b[39m \u001b[39m \u001b[39m \u001b[39m \u001b[39m \u001b[39m \u001b[39m \u001b[39m \u001b[39m \u001b[39m \u001b[39m \u001b[39m \n",
       "  \u001b[39m▂\u001b[39m▅\u001b[39m█\u001b[39m█\u001b[34m█\u001b[39m\u001b[39m█\u001b[39m▆\u001b[39m▄\u001b[39m▃\u001b[39m▃\u001b[39m▂\u001b[39m▂\u001b[39m▂\u001b[39m▂\u001b[39m▂\u001b[39m▂\u001b[32m▂\u001b[39m\u001b[39m▂\u001b[39m▂\u001b[39m▂\u001b[39m▂\u001b[39m▂\u001b[39m▂\u001b[39m▂\u001b[39m▂\u001b[39m▂\u001b[39m▂\u001b[39m▂\u001b[39m▂\u001b[39m▁\u001b[39m▂\u001b[39m▂\u001b[39m▂\u001b[39m▂\u001b[39m▂\u001b[39m▂\u001b[39m▂\u001b[39m▂\u001b[39m▂\u001b[39m▂\u001b[39m▁\u001b[39m▂\u001b[39m▁\u001b[39m▂\u001b[39m▂\u001b[39m▂\u001b[39m▂\u001b[39m▂\u001b[39m▂\u001b[39m▂\u001b[39m▂\u001b[39m▂\u001b[39m▂\u001b[39m▂\u001b[39m▂\u001b[39m▂\u001b[39m▂\u001b[39m▂\u001b[39m▁\u001b[39m▂\u001b[39m \u001b[39m▃\n",
       "  12.8 μs\u001b[90m         Histogram: frequency by time\u001b[39m         24.7 μs \u001b[0m\u001b[1m<\u001b[22m\n",
       "\n",
       " Memory estimate\u001b[90m: \u001b[39m\u001b[33m44.55 KiB\u001b[39m, allocs estimate\u001b[90m: \u001b[39m\u001b[33m634\u001b[39m."
      ]
     },
     "metadata": {},
     "output_type": "display_data"
    }
   ],
   "source": [
    "b1 = @benchmarkable collect(weak_integer_compositions(loop_num, n_expandables)) samples=100000 evals=10\n",
    "run(b1)"
   ]
  },
  {
   "cell_type": "markdown",
   "metadata": {},
   "source": [
    "### Case 2: Direct iterator implementation (using modified `Combinatorics.jl` source code for `WithReplacementCombinations`)"
   ]
  },
  {
   "cell_type": "code",
   "execution_count": 10,
   "metadata": {},
   "outputs": [
    {
     "data": {
      "text/plain": [
       "BenchmarkTools.Trial: 31749 samples with 10 evaluations.\n",
       " Range \u001b[90m(\u001b[39m\u001b[36m\u001b[1mmin\u001b[22m\u001b[39m … \u001b[35mmax\u001b[39m\u001b[90m):  \u001b[39m\u001b[36m\u001b[1m12.856 μs\u001b[22m\u001b[39m … \u001b[35m331.682 μs\u001b[39m  \u001b[90m┊\u001b[39m GC \u001b[90m(\u001b[39mmin … max\u001b[90m): \u001b[39m 0.00% … 93.53%\n",
       " Time  \u001b[90m(\u001b[39m\u001b[34m\u001b[1mmedian\u001b[22m\u001b[39m\u001b[90m):     \u001b[39m\u001b[34m\u001b[1m13.711 μs               \u001b[22m\u001b[39m\u001b[90m┊\u001b[39m GC \u001b[90m(\u001b[39mmedian\u001b[90m):    \u001b[39m 0.00%\n",
       " Time  \u001b[90m(\u001b[39m\u001b[32m\u001b[1mmean\u001b[22m\u001b[39m ± \u001b[32mσ\u001b[39m\u001b[90m):   \u001b[39m\u001b[32m\u001b[1m15.514 μs\u001b[22m\u001b[39m ± \u001b[32m 16.734 μs\u001b[39m  \u001b[90m┊\u001b[39m GC \u001b[90m(\u001b[39mmean ± σ\u001b[90m):  \u001b[39m10.22% ±  8.76%\n",
       "\n",
       "  \u001b[39m \u001b[39m▃\u001b[39m▅\u001b[39m▇\u001b[39m█\u001b[34m▇\u001b[39m\u001b[39m▅\u001b[39m▄\u001b[39m▃\u001b[39m▂\u001b[39m▂\u001b[39m▁\u001b[39m▁\u001b[39m▁\u001b[39m▁\u001b[32m▁\u001b[39m\u001b[39m \u001b[39m \u001b[39m \u001b[39m \u001b[39m \u001b[39m \u001b[39m \u001b[39m \u001b[39m \u001b[39m \u001b[39m \u001b[39m \u001b[39m \u001b[39m \u001b[39m \u001b[39m \u001b[39m \u001b[39m \u001b[39m \u001b[39m \u001b[39m \u001b[39m \u001b[39m \u001b[39m \u001b[39m \u001b[39m \u001b[39m \u001b[39m \u001b[39m \u001b[39m \u001b[39m \u001b[39m \u001b[39m \u001b[39m \u001b[39m \u001b[39m \u001b[39m \u001b[39m \u001b[39m \u001b[39m \u001b[39m \u001b[39m \u001b[39m \u001b[39m \u001b[39m \u001b[39m▂\n",
       "  \u001b[39m█\u001b[39m█\u001b[39m█\u001b[39m█\u001b[39m█\u001b[34m█\u001b[39m\u001b[39m█\u001b[39m█\u001b[39m█\u001b[39m█\u001b[39m█\u001b[39m█\u001b[39m█\u001b[39m█\u001b[39m█\u001b[32m█\u001b[39m\u001b[39m█\u001b[39m█\u001b[39m▇\u001b[39m▇\u001b[39m▇\u001b[39m▆\u001b[39m▆\u001b[39m▅\u001b[39m▇\u001b[39m▆\u001b[39m▆\u001b[39m▆\u001b[39m▆\u001b[39m▆\u001b[39m▆\u001b[39m▇\u001b[39m▆\u001b[39m▆\u001b[39m▆\u001b[39m▆\u001b[39m▆\u001b[39m▆\u001b[39m▆\u001b[39m▅\u001b[39m▆\u001b[39m▇\u001b[39m▇\u001b[39m▆\u001b[39m▃\u001b[39m▅\u001b[39m▅\u001b[39m▄\u001b[39m▅\u001b[39m▅\u001b[39m▅\u001b[39m▅\u001b[39m▆\u001b[39m▆\u001b[39m▅\u001b[39m▆\u001b[39m▆\u001b[39m▅\u001b[39m▅\u001b[39m▅\u001b[39m \u001b[39m█\n",
       "  12.9 μs\u001b[90m       \u001b[39m\u001b[90mHistogram: \u001b[39m\u001b[90m\u001b[1mlog(\u001b[22m\u001b[39m\u001b[90mfrequency\u001b[39m\u001b[90m\u001b[1m)\u001b[22m\u001b[39m\u001b[90m by time\u001b[39m      23.6 μs \u001b[0m\u001b[1m<\u001b[22m\n",
       "\n",
       " Memory estimate\u001b[90m: \u001b[39m\u001b[33m40.56 KiB\u001b[39m, allocs estimate\u001b[90m: \u001b[39m\u001b[33m507\u001b[39m."
      ]
     },
     "metadata": {},
     "output_type": "display_data"
    }
   ],
   "source": [
    "b2 = @benchmarkable collect(weak_integer_compositions_v2(loop_num, n_expandables)) samples=100000 evals=10\n",
    "run(b2)"
   ]
  },
  {
   "cell_type": "markdown",
   "metadata": {},
   "source": [
    "### Case 3: Existing implementation, i.e., `Parquet.orderedPartition` stripped of assertions and specialized to weak compositions (`lowerbound=0`)"
   ]
  },
  {
   "cell_type": "code",
   "execution_count": 11,
   "metadata": {},
   "outputs": [
    {
     "data": {
      "text/plain": [
       "BenchmarkTools.Trial: 4766 samples with 10 evaluations.\n",
       " Range \u001b[90m(\u001b[39m\u001b[36m\u001b[1mmin\u001b[22m\u001b[39m … \u001b[35mmax\u001b[39m\u001b[90m):  \u001b[39m\u001b[36m\u001b[1m 86.960 μs\u001b[22m\u001b[39m … \u001b[35m459.511 μs\u001b[39m  \u001b[90m┊\u001b[39m GC \u001b[90m(\u001b[39mmin … max\u001b[90m): \u001b[39m0.00% … 73.00%\n",
       " Time  \u001b[90m(\u001b[39m\u001b[34m\u001b[1mmedian\u001b[22m\u001b[39m\u001b[90m):     \u001b[39m\u001b[34m\u001b[1m 93.038 μs               \u001b[22m\u001b[39m\u001b[90m┊\u001b[39m GC \u001b[90m(\u001b[39mmedian\u001b[90m):    \u001b[39m0.00%\n",
       " Time  \u001b[90m(\u001b[39m\u001b[32m\u001b[1mmean\u001b[22m\u001b[39m ± \u001b[32mσ\u001b[39m\u001b[90m):   \u001b[39m\u001b[32m\u001b[1m104.247 μs\u001b[22m\u001b[39m ± \u001b[32m 46.291 μs\u001b[39m  \u001b[90m┊\u001b[39m GC \u001b[90m(\u001b[39mmean ± σ\u001b[90m):  \u001b[39m9.31% ± 14.22%\n",
       "\n",
       "  \u001b[39m▄\u001b[39m█\u001b[34m▅\u001b[39m\u001b[39m▁\u001b[39m \u001b[32m \u001b[39m\u001b[39m \u001b[39m \u001b[39m \u001b[39m \u001b[39m \u001b[39m \u001b[39m \u001b[39m \u001b[39m \u001b[39m \u001b[39m \u001b[39m \u001b[39m \u001b[39m \u001b[39m \u001b[39m \u001b[39m \u001b[39m \u001b[39m \u001b[39m \u001b[39m \u001b[39m \u001b[39m \u001b[39m \u001b[39m \u001b[39m \u001b[39m \u001b[39m \u001b[39m \u001b[39m \u001b[39m \u001b[39m \u001b[39m \u001b[39m \u001b[39m \u001b[39m \u001b[39m \u001b[39m \u001b[39m \u001b[39m \u001b[39m \u001b[39m \u001b[39m \u001b[39m \u001b[39m \u001b[39m \u001b[39m \u001b[39m \u001b[39m \u001b[39m \u001b[39m \u001b[39m \u001b[39m \u001b[39m \u001b[39m \u001b[39m \u001b[39m▁\n",
       "  \u001b[39m█\u001b[39m█\u001b[34m█\u001b[39m\u001b[39m█\u001b[39m▇\u001b[32m▇\u001b[39m\u001b[39m▅\u001b[39m▅\u001b[39m▆\u001b[39m▁\u001b[39m▆\u001b[39m▆\u001b[39m▆\u001b[39m▆\u001b[39m▆\u001b[39m▇\u001b[39m▄\u001b[39m▄\u001b[39m▁\u001b[39m▄\u001b[39m▃\u001b[39m▃\u001b[39m▄\u001b[39m▁\u001b[39m▃\u001b[39m▃\u001b[39m▄\u001b[39m▁\u001b[39m▁\u001b[39m▄\u001b[39m▁\u001b[39m▄\u001b[39m▃\u001b[39m▃\u001b[39m▁\u001b[39m▁\u001b[39m▃\u001b[39m▃\u001b[39m▁\u001b[39m▁\u001b[39m▁\u001b[39m▁\u001b[39m▁\u001b[39m▁\u001b[39m▁\u001b[39m▁\u001b[39m▁\u001b[39m▁\u001b[39m▁\u001b[39m▁\u001b[39m▁\u001b[39m▁\u001b[39m▁\u001b[39m▅\u001b[39m▇\u001b[39m▇\u001b[39m█\u001b[39m█\u001b[39m█\u001b[39m█\u001b[39m▇\u001b[39m \u001b[39m█\n",
       "  87 μs\u001b[90m         \u001b[39m\u001b[90mHistogram: \u001b[39m\u001b[90m\u001b[1mlog(\u001b[22m\u001b[39m\u001b[90mfrequency\u001b[39m\u001b[90m\u001b[1m)\u001b[22m\u001b[39m\u001b[90m by time\u001b[39m        314 μs \u001b[0m\u001b[1m<\u001b[22m\n",
       "\n",
       " Memory estimate\u001b[90m: \u001b[39m\u001b[33m207.95 KiB\u001b[39m, allocs estimate\u001b[90m: \u001b[39m\u001b[33m2599\u001b[39m."
      ]
     },
     "metadata": {},
     "output_type": "display_data"
    }
   ],
   "source": [
    "b3 = @benchmarkable collect(weak_integer_compositions_kun(loop_num, n_expandables)) samples=100000 evals=10\n",
    "run(b3)"
   ]
  },
  {
   "cell_type": "markdown",
   "metadata": {},
   "source": [
    "We observe that both iterators outperform the existing implementation in terms of runtime and memory allocations, especially in the regime $n_l < n_e$ where $n_l$ is the loop number and $n_e$ is the number of propagators to be expanded. This is because the simple implementation first generates all permutations for each cycle, then identifies and discards duplicates. In other words, the algorithm does not take advantage of the multiset structure.\n",
    "\n",
    "In contrast, the Combinatorics.jl iterator `with_replacement_combinations` directly generates multicombinations of fixed size. For instance, consider the following two cases: (1) $n_l = 2, n_e = 5$, and (2) $n_l = 5, n_e = 10$.\n",
    "The naive approach is an order of magnitude slower for case (1), and completely intractable in case (2). Even at high orders as in case (2), the more sophisticated multicombination iterator uses less than 1 MB of memory and retains a runtime of under a millisecond. \n",
    "\n",
    "We propose to use the first of the two iterator implementations; it is slightly less efficient than the direct implementation, but it is more Julian, and also avoids any licensing headaches associated with modifying the `Combinatorics.jl` sources. Note that this would currently only replace the functionality of `Parquet.orderedPartition` for the generation of *weak* compositions, i.e., when `lowerbound=0`.\n",
    "\n",
    "Finally, note that many complicated optimizations exist for (multi)permutation/combination generation (Gray code, Co-lex and Cool-lex orders, etc.)—I have not reverse-engineered the actual implementation in `Combinatorics.jl`, but it would be interesting to do so."
   ]
  }
 ],
 "metadata": {
  "kernelspec": {
   "display_name": "Julia 1.8.0",
   "language": "julia",
   "name": "julia-1.8"
  },
  "language_info": {
   "file_extension": ".jl",
   "mimetype": "application/julia",
   "name": "julia",
   "version": "1.8.0"
  },
  "orig_nbformat": 4
 },
 "nbformat": 4,
 "nbformat_minor": 2
}
